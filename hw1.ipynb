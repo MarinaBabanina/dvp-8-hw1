{
 "cells": [
  {
   "cell_type": "code",
   "execution_count": 1,
   "metadata": {},
   "outputs": [],
   "source": [
    "import numpy as np\n",
    "import pandas as pd\n",
    "\n",
    "from sklearn.linear_model import LinearRegression"
   ]
  },
  {
   "cell_type": "code",
   "execution_count": 28,
   "metadata": {},
   "outputs": [
    {
     "data": {
      "text/html": [
       "<div>\n",
       "<style scoped>\n",
       "    .dataframe tbody tr th:only-of-type {\n",
       "        vertical-align: middle;\n",
       "    }\n",
       "\n",
       "    .dataframe tbody tr th {\n",
       "        vertical-align: top;\n",
       "    }\n",
       "\n",
       "    .dataframe thead th {\n",
       "        text-align: right;\n",
       "    }\n",
       "</style>\n",
       "<table border=\"1\" class=\"dataframe\">\n",
       "  <thead>\n",
       "    <tr style=\"text-align: right;\">\n",
       "      <th></th>\n",
       "      <th>count</th>\n",
       "      <th>length</th>\n",
       "      <th>width</th>\n",
       "      <th>height</th>\n",
       "      <th>density</th>\n",
       "      <th>m</th>\n",
       "    </tr>\n",
       "  </thead>\n",
       "  <tbody>\n",
       "    <tr>\n",
       "      <th>0</th>\n",
       "      <td>77</td>\n",
       "      <td>137</td>\n",
       "      <td>22</td>\n",
       "      <td>139</td>\n",
       "      <td>2.200761</td>\n",
       "      <td>922</td>\n",
       "    </tr>\n",
       "    <tr>\n",
       "      <th>1</th>\n",
       "      <td>18</td>\n",
       "      <td>80</td>\n",
       "      <td>60</td>\n",
       "      <td>123</td>\n",
       "      <td>0.797764</td>\n",
       "      <td>471</td>\n",
       "    </tr>\n",
       "    <tr>\n",
       "      <th>2</th>\n",
       "      <td>475</td>\n",
       "      <td>85</td>\n",
       "      <td>65</td>\n",
       "      <td>104</td>\n",
       "      <td>0.334145</td>\n",
       "      <td>192</td>\n",
       "    </tr>\n",
       "    <tr>\n",
       "      <th>3</th>\n",
       "      <td>356</td>\n",
       "      <td>37</td>\n",
       "      <td>40</td>\n",
       "      <td>1</td>\n",
       "      <td>289.864865</td>\n",
       "      <td>429</td>\n",
       "    </tr>\n",
       "    <tr>\n",
       "      <th>4</th>\n",
       "      <td>433</td>\n",
       "      <td>161</td>\n",
       "      <td>38</td>\n",
       "      <td>144</td>\n",
       "      <td>0.525544</td>\n",
       "      <td>463</td>\n",
       "    </tr>\n",
       "  </tbody>\n",
       "</table>\n",
       "</div>"
      ],
      "text/plain": [
       "   count  length  width  height     density    m\n",
       "0     77     137     22     139    2.200761  922\n",
       "1     18      80     60     123    0.797764  471\n",
       "2    475      85     65     104    0.334145  192\n",
       "3    356      37     40       1  289.864865  429\n",
       "4    433     161     38     144    0.525544  463"
      ]
     },
     "execution_count": 28,
     "metadata": {},
     "output_type": "execute_result"
    }
   ],
   "source": [
    "# Создаём сэмпл\n",
    "n_samples = 500\n",
    "\n",
    "# Вспомним школьную физику и расчитаем плотность, при этом добавив ничего не значащий признак count\n",
    "\n",
    "m = np.random.choice(1000, n_samples) + 1\n",
    "length = np.random.choice(250, n_samples) + 1\n",
    "width = np.random.choice(100, n_samples) + 1\n",
    "height = np.random.choice(150, n_samples) + 1\n",
    "count = np.random.choice(500, n_samples) + 1\n",
    "\n",
    "density = m * 1000 / (length * width * height)\n",
    "\n",
    "data = pd.DataFrame({'count': count, 'length': length, 'width': width, 'height': height, 'density': density, 'm': m})\n",
    "data.head(5)"
   ]
  },
  {
   "cell_type": "code",
   "execution_count": 29,
   "metadata": {},
   "outputs": [
    {
     "name": "stdout",
     "output_type": "stream",
     "text": [
      "Weights: [-0.03154842 -0.43012671 -0.86978845 -0.5410876   0.05459467]\n",
      "Bias: 139.41176841041914\n",
      "Error: 47.67796719586929\n"
     ]
    }
   ],
   "source": [
    "# Построим модель со всеми признаками\n",
    "from sklearn.metrics import mean_absolute_error\n",
    "\n",
    "X = data[['count', 'length', 'width', 'height', 'm']]\n",
    "y = data['density']\n",
    "reg = LinearRegression().fit(X, y)\n",
    "print('Weights: {}'.format(reg.coef_))\n",
    "print('Bias: {}'.format(reg.intercept_))\n",
    "\n",
    "pred_values = reg.predict(data[['count', 'length', 'width', 'height', 'm']])\n",
    "print('Error: {}'.format(mean_absolute_error(pred_values, y)))"
   ]
  },
  {
   "cell_type": "code",
   "execution_count": 30,
   "metadata": {},
   "outputs": [
    {
     "name": "stdout",
     "output_type": "stream",
     "text": [
      "Weights: [-0.43589116 -0.85307785 -0.53377485  0.05430207]\n",
      "Bias: 131.35363036341965\n",
      "Error: 47.71546318503976\n"
     ]
    }
   ],
   "source": [
    "# Теперь оставим признаки, участвующие в расчете\n",
    "X = data[['length', 'width', 'height', 'm']]\n",
    "y = data['density']\n",
    "reg = LinearRegression().fit(X, y)\n",
    "print('Weights: {}'.format(reg.coef_))\n",
    "print('Bias: {}'.format(reg.intercept_))\n",
    "\n",
    "pred_values = reg.predict(data[['length', 'width', 'height', 'm']])\n",
    "print('Error: {}'.format(mean_absolute_error(pred_values, y)))"
   ]
  },
  {
   "cell_type": "code",
   "execution_count": 31,
   "metadata": {},
   "outputs": [
    {
     "data": {
      "text/html": [
       "<div>\n",
       "<style scoped>\n",
       "    .dataframe tbody tr th:only-of-type {\n",
       "        vertical-align: middle;\n",
       "    }\n",
       "\n",
       "    .dataframe tbody tr th {\n",
       "        vertical-align: top;\n",
       "    }\n",
       "\n",
       "    .dataframe thead th {\n",
       "        text-align: right;\n",
       "    }\n",
       "</style>\n",
       "<table border=\"1\" class=\"dataframe\">\n",
       "  <thead>\n",
       "    <tr style=\"text-align: right;\">\n",
       "      <th></th>\n",
       "      <th>count</th>\n",
       "      <th>length</th>\n",
       "      <th>width</th>\n",
       "      <th>height</th>\n",
       "      <th>density</th>\n",
       "      <th>m</th>\n",
       "      <th>V</th>\n",
       "    </tr>\n",
       "  </thead>\n",
       "  <tbody>\n",
       "    <tr>\n",
       "      <th>0</th>\n",
       "      <td>77</td>\n",
       "      <td>137</td>\n",
       "      <td>22</td>\n",
       "      <td>139</td>\n",
       "      <td>2.200761</td>\n",
       "      <td>922</td>\n",
       "      <td>418946</td>\n",
       "    </tr>\n",
       "    <tr>\n",
       "      <th>1</th>\n",
       "      <td>18</td>\n",
       "      <td>80</td>\n",
       "      <td>60</td>\n",
       "      <td>123</td>\n",
       "      <td>0.797764</td>\n",
       "      <td>471</td>\n",
       "      <td>590400</td>\n",
       "    </tr>\n",
       "    <tr>\n",
       "      <th>2</th>\n",
       "      <td>475</td>\n",
       "      <td>85</td>\n",
       "      <td>65</td>\n",
       "      <td>104</td>\n",
       "      <td>0.334145</td>\n",
       "      <td>192</td>\n",
       "      <td>574600</td>\n",
       "    </tr>\n",
       "    <tr>\n",
       "      <th>3</th>\n",
       "      <td>356</td>\n",
       "      <td>37</td>\n",
       "      <td>40</td>\n",
       "      <td>1</td>\n",
       "      <td>289.864865</td>\n",
       "      <td>429</td>\n",
       "      <td>1480</td>\n",
       "    </tr>\n",
       "    <tr>\n",
       "      <th>4</th>\n",
       "      <td>433</td>\n",
       "      <td>161</td>\n",
       "      <td>38</td>\n",
       "      <td>144</td>\n",
       "      <td>0.525544</td>\n",
       "      <td>463</td>\n",
       "      <td>880992</td>\n",
       "    </tr>\n",
       "  </tbody>\n",
       "</table>\n",
       "</div>"
      ],
      "text/plain": [
       "   count  length  width  height     density    m       V\n",
       "0     77     137     22     139    2.200761  922  418946\n",
       "1     18      80     60     123    0.797764  471  590400\n",
       "2    475      85     65     104    0.334145  192  574600\n",
       "3    356      37     40       1  289.864865  429    1480\n",
       "4    433     161     38     144    0.525544  463  880992"
      ]
     },
     "execution_count": 31,
     "metadata": {},
     "output_type": "execute_result"
    }
   ],
   "source": [
    "# Создаем новый признак\n",
    "data['V'] = data['length'] * data['width'] * data['height']\n",
    "data.head(5)"
   ]
  },
  {
   "cell_type": "code",
   "execution_count": 32,
   "metadata": {},
   "outputs": [
    {
     "name": "stdout",
     "output_type": "stream",
     "text": [
      "Weights: [-3.48708501e-05  5.29507784e-02]\n",
      "Bias: 13.017397455721138\n",
      "Error: 39.510479980551665\n"
     ]
    }
   ],
   "source": [
    "X = data[['V', 'm']]\n",
    "y = data['density']\n",
    "reg = LinearRegression().fit(X, y)\n",
    "print('Weights: {}'.format(reg.coef_))\n",
    "print('Bias: {}'.format(reg.intercept_))\n",
    "\n",
    "pred_values = reg.predict(data[['V', 'm']])\n",
    "print('Error: {}'.format(mean_absolute_error(pred_values, y)))"
   ]
  },
  {
   "cell_type": "code",
   "execution_count": 33,
   "metadata": {},
   "outputs": [
    {
     "data": {
      "text/html": [
       "<div>\n",
       "<style scoped>\n",
       "    .dataframe tbody tr th:only-of-type {\n",
       "        vertical-align: middle;\n",
       "    }\n",
       "\n",
       "    .dataframe tbody tr th {\n",
       "        vertical-align: top;\n",
       "    }\n",
       "\n",
       "    .dataframe thead th {\n",
       "        text-align: right;\n",
       "    }\n",
       "</style>\n",
       "<table border=\"1\" class=\"dataframe\">\n",
       "  <thead>\n",
       "    <tr style=\"text-align: right;\">\n",
       "      <th></th>\n",
       "      <th>count</th>\n",
       "      <th>length</th>\n",
       "      <th>width</th>\n",
       "      <th>height</th>\n",
       "      <th>density</th>\n",
       "      <th>m</th>\n",
       "      <th>V</th>\n",
       "      <th>ratio</th>\n",
       "    </tr>\n",
       "  </thead>\n",
       "  <tbody>\n",
       "    <tr>\n",
       "      <th>0</th>\n",
       "      <td>77</td>\n",
       "      <td>137</td>\n",
       "      <td>22</td>\n",
       "      <td>139</td>\n",
       "      <td>2.200761</td>\n",
       "      <td>922</td>\n",
       "      <td>418946</td>\n",
       "      <td>0.002201</td>\n",
       "    </tr>\n",
       "    <tr>\n",
       "      <th>1</th>\n",
       "      <td>18</td>\n",
       "      <td>80</td>\n",
       "      <td>60</td>\n",
       "      <td>123</td>\n",
       "      <td>0.797764</td>\n",
       "      <td>471</td>\n",
       "      <td>590400</td>\n",
       "      <td>0.000798</td>\n",
       "    </tr>\n",
       "    <tr>\n",
       "      <th>2</th>\n",
       "      <td>475</td>\n",
       "      <td>85</td>\n",
       "      <td>65</td>\n",
       "      <td>104</td>\n",
       "      <td>0.334145</td>\n",
       "      <td>192</td>\n",
       "      <td>574600</td>\n",
       "      <td>0.000334</td>\n",
       "    </tr>\n",
       "    <tr>\n",
       "      <th>3</th>\n",
       "      <td>356</td>\n",
       "      <td>37</td>\n",
       "      <td>40</td>\n",
       "      <td>1</td>\n",
       "      <td>289.864865</td>\n",
       "      <td>429</td>\n",
       "      <td>1480</td>\n",
       "      <td>0.289865</td>\n",
       "    </tr>\n",
       "    <tr>\n",
       "      <th>4</th>\n",
       "      <td>433</td>\n",
       "      <td>161</td>\n",
       "      <td>38</td>\n",
       "      <td>144</td>\n",
       "      <td>0.525544</td>\n",
       "      <td>463</td>\n",
       "      <td>880992</td>\n",
       "      <td>0.000526</td>\n",
       "    </tr>\n",
       "  </tbody>\n",
       "</table>\n",
       "</div>"
      ],
      "text/plain": [
       "   count  length  width  height     density    m       V     ratio\n",
       "0     77     137     22     139    2.200761  922  418946  0.002201\n",
       "1     18      80     60     123    0.797764  471  590400  0.000798\n",
       "2    475      85     65     104    0.334145  192  574600  0.000334\n",
       "3    356      37     40       1  289.864865  429    1480  0.289865\n",
       "4    433     161     38     144    0.525544  463  880992  0.000526"
      ]
     },
     "execution_count": 33,
     "metadata": {},
     "output_type": "execute_result"
    }
   ],
   "source": [
    "# Создаем новый признак\n",
    "data['ratio'] = data['m'] / data['V']\n",
    "data.head(5)"
   ]
  },
  {
   "cell_type": "code",
   "execution_count": 34,
   "metadata": {},
   "outputs": [
    {
     "name": "stdout",
     "output_type": "stream",
     "text": [
      "Weights: [1000.]\n",
      "Bias: -3.552713678800501e-15\n",
      "Error: 5.9188693442985275e-15\n"
     ]
    }
   ],
   "source": [
    "X = data[['ratio']]\n",
    "y = data['density']\n",
    "reg = LinearRegression().fit(X, y)\n",
    "print('Weights: {}'.format(reg.coef_))\n",
    "print('Bias: {}'.format(reg.intercept_))\n",
    "\n",
    "pred_values = reg.predict(data[['ratio']])\n",
    "print('Error: {}'.format(mean_absolute_error(pred_values, y)))"
   ]
  },
  {
   "cell_type": "markdown",
   "metadata": {},
   "source": [
    "Модель правильно определила вес, которого нам не хватало для правильного ответа."
   ]
  },
  {
   "cell_type": "code",
   "execution_count": null,
   "metadata": {},
   "outputs": [],
   "source": []
  }
 ],
 "metadata": {
  "kernelspec": {
   "display_name": "Python 3",
   "language": "python",
   "name": "python3"
  },
  "language_info": {
   "codemirror_mode": {
    "name": "ipython",
    "version": 3
   },
   "file_extension": ".py",
   "mimetype": "text/x-python",
   "name": "python",
   "nbconvert_exporter": "python",
   "pygments_lexer": "ipython3",
   "version": "3.7.6"
  }
 },
 "nbformat": 4,
 "nbformat_minor": 2
}
